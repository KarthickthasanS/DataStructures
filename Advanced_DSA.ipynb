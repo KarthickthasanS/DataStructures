{
  "nbformat": 4,
  "nbformat_minor": 0,
  "metadata": {
    "colab": {
      "provenance": [],
      "authorship_tag": "ABX9TyMx8lkUDVHO7wlYnJKeVX2t",
      "include_colab_link": true
    },
    "kernelspec": {
      "name": "python3",
      "display_name": "Python 3"
    },
    "language_info": {
      "name": "python"
    }
  },
  "cells": [
    {
      "cell_type": "markdown",
      "metadata": {
        "id": "view-in-github",
        "colab_type": "text"
      },
      "source": [
        "<a href=\"https://colab.research.google.com/github/KarthickthasanS/DataStructures/blob/main/Advanced_DSA.ipynb\" target=\"_parent\"><img src=\"https://colab.research.google.com/assets/colab-badge.svg\" alt=\"Open In Colab\"/></a>"
      ]
    },
    {
      "cell_type": "markdown",
      "source": [
        "# Selection Sort Approach 1"
      ],
      "metadata": {
        "id": "P-UMB8AbJU_e"
      }
    },
    {
      "cell_type": "code",
      "execution_count": null,
      "metadata": {
        "colab": {
          "base_uri": "https://localhost:8080/"
        },
        "id": "OivR1CDyJUAy",
        "outputId": "002be8a4-8ab1-43fd-c7bb-850d1ad88b8e"
      },
      "outputs": [
        {
          "output_type": "stream",
          "name": "stdout",
          "text": [
            "[8, 6, 72, 9]\n"
          ]
        }
      ],
      "source": [
        "A= [ 8,6,72,9]\n",
        "b = []\n",
        "for i in range(len(A)-1):\n",
        "  min= i\n",
        "  for j in range(i+1, len(A)):\n",
        "    if A[min] > A[j]:\n",
        "\n",
        "      min = j\n",
        "      A[i] , A[min] = A[min] , A[i]\n",
        "\n",
        "\n",
        "\n",
        "\n",
        "print(A)\n"
      ]
    },
    {
      "cell_type": "markdown",
      "source": [
        "# Selection Sort Approach 2"
      ],
      "metadata": {
        "id": "0W38KCjVrbTX"
      }
    },
    {
      "cell_type": "code",
      "source": [
        "def selectionsort(arr):\n",
        "  for i in range(len(arr)):\n",
        "    min = i\n",
        "    for j in range(i+1, len(arr)):\n",
        "      if arr[i] > arr[j]:\n",
        "        min = j\n",
        "        arr[i], arr[j] = arr[j], arr[i]\n",
        "  return arr\n",
        "arr = [10,15,2,1,20,25,0]\n",
        "d = selectionsort(arr)\n",
        "print(d)"
      ],
      "metadata": {
        "colab": {
          "base_uri": "https://localhost:8080/"
        },
        "id": "ZcbrMre-N-AN",
        "outputId": "7007daf2-d655-4676-fef1-5dae5081a4db"
      },
      "execution_count": null,
      "outputs": [
        {
          "output_type": "stream",
          "name": "stdout",
          "text": [
            "[0, 1, 2, 10, 15, 20, 25]\n"
          ]
        }
      ]
    },
    {
      "cell_type": "markdown",
      "source": [
        "# Bubble short"
      ],
      "metadata": {
        "id": "CaSpoBSw0ll3"
      }
    },
    {
      "cell_type": "code",
      "source": [
        "array = [ 80,12, 5,8, 22]\n",
        "n = len(array)\n",
        "for i in range(n-1):\n",
        "  for j in range(n-i-1):\n",
        "    if array[j] > array[j+1]:\n",
        "      array[j],array[j+1] = array[j+1], array[j]\n",
        "print(array)\n"
      ],
      "metadata": {
        "id": "rjdoa55pOjRW",
        "colab": {
          "base_uri": "https://localhost:8080/"
        },
        "outputId": "37ad93e3-02e0-4e46-b5be-6df0d221ca73"
      },
      "execution_count": null,
      "outputs": [
        {
          "output_type": "stream",
          "name": "stdout",
          "text": [
            "[5, 8, 12, 22, 80]\n"
          ]
        }
      ]
    },
    {
      "cell_type": "markdown",
      "source": [
        "# Insertion Sort\n"
      ],
      "metadata": {
        "id": "iZeW_oxFRS_4"
      }
    },
    {
      "cell_type": "code",
      "source": [
        "arr = [12, 11, 13, 5, 6]\n",
        "for i in range(1, len(arr)):\n",
        "  key = arr[i]\n",
        "  j = i-1\n",
        "  while j >= 0 and key < arr[j] :\n",
        "    arr[j + 1] = arr[j]\n",
        "    j -= 1\n",
        "    arr[j + 1] = key\n",
        "\n",
        "\n",
        "\n",
        "\n",
        "insertionSort(arr)\n",
        "for i in range(len(arr)):\n",
        "    print (\"% d\" % arr[i])"
      ],
      "metadata": {
        "id": "h55kKFPpzba6"
      },
      "execution_count": null,
      "outputs": []
    },
    {
      "cell_type": "code",
      "source": [
        "def insertionSort(arr):\n",
        "    for i in range(1, len(arr)):\n",
        "\n",
        "        key = arr[i]\n",
        "        j = i-1\n",
        "        while j >= 0 and key < arr[j] :\n",
        "                arr[j + 1] = arr[j]\n",
        "                j -= 1\n",
        "        arr[j + 1] = key\n",
        "\n",
        "arr = [12, 11, 13, 5, 6]\n",
        "insertionSort(arr)\n",
        "print(arr)"
      ],
      "metadata": {
        "colab": {
          "base_uri": "https://localhost:8080/"
        },
        "id": "zJ-BiDYJTh0B",
        "outputId": "680341c7-54ad-4564-ecc7-b1e9dc1d7038"
      },
      "execution_count": 3,
      "outputs": [
        {
          "output_type": "stream",
          "name": "stdout",
          "text": [
            "[5, 6, 11, 12, 13]\n"
          ]
        }
      ]
    },
    {
      "cell_type": "markdown",
      "source": [
        "# Quick Sort"
      ],
      "metadata": {
        "id": "cbzw6nRgAbed"
      }
    },
    {
      "cell_type": "code",
      "source": [
        "def partition(array, low, high):\n",
        "    pivot = array[high]\n",
        "\n",
        "\n",
        "    i = low - 1\n",
        "\n",
        "\n",
        "    for j in range(low, high):\n",
        "        if array[j] <= pivot:\n",
        "\n",
        "\n",
        "            i = i + 1\n",
        "\n",
        "\n",
        "            (array[i], array[j]) = (array[j], array[i])\n",
        "\n",
        "\n",
        "    (array[i + 1], array[high]) = (array[high], array[i + 1])\n",
        "\n",
        "\n",
        "    return i + 1\n",
        "\n",
        "def quicksort(array, low, high):\n",
        "    if low < high:\n",
        "\n",
        "        pi = partition(array, low, high)\n",
        "\n",
        "\n",
        "        quicksort(array, low, pi - 1)\n",
        "\n",
        "\n",
        "        quicksort(array, pi + 1, high)\n",
        "\n",
        "\n",
        "\n",
        "\n",
        "array = [10, 7, 8, 9, 1, 5]\n",
        "N = len(array)\n",
        "\n",
        "\n",
        "quicksort(array, 0, N - 1)\n",
        "print('Sorted array:')\n",
        "for x in array:\n",
        "  print(x, end=\" \")"
      ],
      "metadata": {
        "id": "GyuOFKdNTkP8"
      },
      "execution_count": null,
      "outputs": []
    }
  ]
}