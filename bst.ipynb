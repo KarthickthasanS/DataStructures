{
 "cells": [
  {
   "cell_type": "code",
   "execution_count": 1,
   "id": "0b06ba84",
   "metadata": {},
   "outputs": [],
   "source": [
    "class Node:\n",
    "    def __init__(self,key):\n",
    "        self.key = key\n",
    "        self.left = None\n",
    "        self.right = None"
   ]
  },
  {
   "cell_type": "code",
   "execution_count": 11,
   "id": "772a914d",
   "metadata": {},
   "outputs": [],
   "source": [
    "class BinarySearchTree:\n",
    "    def __init__(self):\n",
    "        self.root = None\n",
    "        \n",
    "    def insert(self,key):\n",
    "        if self.root is None:\n",
    "            self.root = Node(key)\n",
    "        else:\n",
    "            self._insert(self.root, key)\n",
    "            \n",
    "    def _insert(self, node, key):\n",
    "        if key < node.key:\n",
    "            if node.left is None:\n",
    "                node.left = Node(key)\n",
    "                \n",
    "            else:\n",
    "                self._insert(node.left, key)\n",
    "        else:\n",
    "            if node.right is None:\n",
    "                node.right = Node(key)\n",
    "            else:\n",
    "                self._insert(node.right, key)\n",
    "                \n",
    "    def in_order_traversal(self, node, result=[]):\n",
    "        if node is not None:\n",
    "            self.in_order_traversal(node.left, result)\n",
    "            result.append(node.key)\n",
    "            self.in_order_traversal(node.right, result)\n",
    "        return result\n",
    "    \n",
    "    def visualize(self, node, level=0, prefix=\"Root: \"):\n",
    "        if node is not None:\n",
    "            print(\" \" * (level * 4) + prefix + str(node.key))\n",
    "            if node.left:\n",
    "                self.visualize(node.left, level +1, \"L-- \")\n",
    "            if node.right:\n",
    "                self.visualize(node.right, level + 1, \"R-- \")\n",
    "                "
   ]
  },
  {
   "cell_type": "code",
   "execution_count": null,
   "id": "cd8a5fad",
   "metadata": {},
   "outputs": [],
   "source": []
  },
  {
   "cell_type": "code",
   "execution_count": 12,
   "id": "fe140b09",
   "metadata": {},
   "outputs": [],
   "source": [
    "# Create an empty Binary Search Tree\n",
    "bst = BinarySearchTree()"
   ]
  },
  {
   "cell_type": "code",
   "execution_count": 13,
   "id": "915b6946",
   "metadata": {},
   "outputs": [
    {
     "data": {
      "text/plain": [
       "<__main__.BinarySearchTree at 0x1d8947d10d0>"
      ]
     },
     "execution_count": 13,
     "metadata": {},
     "output_type": "execute_result"
    }
   ],
   "source": [
    "bst"
   ]
  },
  {
   "cell_type": "code",
   "execution_count": 14,
   "id": "b5674e82",
   "metadata": {},
   "outputs": [],
   "source": [
    "bst.insert(10)"
   ]
  },
  {
   "cell_type": "code",
   "execution_count": 19,
   "id": "56e38500",
   "metadata": {},
   "outputs": [],
   "source": [
    "# Create an empty Binary Search Tree\n",
    "bst = BinarySearchTree()\n",
    "\n",
    "# Insert data\n",
    "data = [50, 30, 70, 20, 40, 60, 80 , 90 , 100, 25, 11]\n",
    "for value in data:\n",
    "    bst.insert(value)\n"
   ]
  },
  {
   "cell_type": "code",
   "execution_count": 22,
   "id": "0463c6fa",
   "metadata": {},
   "outputs": [
    {
     "name": "stdout",
     "output_type": "stream",
     "text": [
      "Root: 50\n",
      "    L-- 30\n",
      "        L-- 20\n",
      "            L-- 11\n",
      "            R-- 25\n",
      "        R-- 40\n",
      "    R-- 70\n",
      "        L-- 60\n",
      "        R-- 80\n",
      "            R-- 90\n",
      "                R-- 100\n"
     ]
    }
   ],
   "source": [
    "# Visualize the BST\n",
    "bst.visualize(bst.root)\n"
   ]
  },
  {
   "cell_type": "code",
   "execution_count": null,
   "id": "cbbe40b2",
   "metadata": {},
   "outputs": [],
   "source": []
  }
 ],
 "metadata": {
  "kernelspec": {
   "display_name": "Python 3 (ipykernel)",
   "language": "python",
   "name": "python3"
  },
  "language_info": {
   "codemirror_mode": {
    "name": "ipython",
    "version": 3
   },
   "file_extension": ".py",
   "mimetype": "text/x-python",
   "name": "python",
   "nbconvert_exporter": "python",
   "pygments_lexer": "ipython3",
   "version": "3.11.5"
  }
 },
 "nbformat": 4,
 "nbformat_minor": 5
}
