{
 "cells": [
  {
   "cell_type": "code",
   "execution_count": 7,
   "id": "49ce909b",
   "metadata": {},
   "outputs": [],
   "source": [
    "class Node:\n",
    "    def __init__(self, data=None):\n",
    "        self.data = data\n",
    "        self.next = None"
   ]
  },
  {
   "cell_type": "code",
   "execution_count": 11,
   "id": "ddd85207",
   "metadata": {},
   "outputs": [],
   "source": [
    "class Sls:\n",
    "    def __init__(self):\n",
    "        self.head = None\n",
    "    \n",
    "    def insertatbeg(self, data):\n",
    "        new_node = Node(data)\n",
    "        new_node.next = self.head\n",
    "        self.head = new_node\n",
    "    \n",
    "    def insert_at_end(self, data):\n",
    "        new_node = Node(data)\n",
    "        if not self.head:\n",
    "            self.head = new_node\n",
    "            return\n",
    "        last = self.head\n",
    "        while last.next:\n",
    "            last = last.next\n",
    "        last.next=new_node\n",
    "    \n",
    "    def printlist(self):\n",
    "        current = self.head\n",
    "        while current:\n",
    "            print(current.data , end=\"->\")\n",
    "            current = current.next\n",
    "        print(\"None\")\n",
    "            \n",
    "        "
   ]
  },
  {
   "cell_type": "code",
   "execution_count": 12,
   "id": "cfb476f8",
   "metadata": {},
   "outputs": [],
   "source": [
    "linkedlist = Sls()"
   ]
  },
  {
   "cell_type": "code",
   "execution_count": 13,
   "id": "a4cfed74",
   "metadata": {},
   "outputs": [],
   "source": [
    "linkedlist.insertatbeg(10)"
   ]
  },
  {
   "cell_type": "code",
   "execution_count": null,
   "id": "d41f9ad6",
   "metadata": {},
   "outputs": [],
   "source": [
    "linkedli"
   ]
  },
  {
   "cell_type": "code",
   "execution_count": null,
   "id": "94c68806",
   "metadata": {},
   "outputs": [],
   "source": []
  }
 ],
 "metadata": {
  "kernelspec": {
   "display_name": "Python 3 (ipykernel)",
   "language": "python",
   "name": "python3"
  },
  "language_info": {
   "codemirror_mode": {
    "name": "ipython",
    "version": 3
   },
   "file_extension": ".py",
   "mimetype": "text/x-python",
   "name": "python",
   "nbconvert_exporter": "python",
   "pygments_lexer": "ipython3",
   "version": "3.11.5"
  }
 },
 "nbformat": 4,
 "nbformat_minor": 5
}
